{
 "cells": [
  {
   "cell_type": "code",
   "execution_count": null,
   "metadata": {
    "collapsed": false
   },
   "outputs": [],
   "source": [
    "import os\n",
    "import pickle\n",
    "import numpy as np\n",
    "import json\n",
    "from myEstimator import gd_estimator, mymcmc_estimator2, ML_estimator\n",
    "from scipy.stats import beta\n",
    "\n",
    "folder = '/Users/anjiefang/Desktop/CIKM2017_select_best/'\n",
    "INTERVALS = [30,60,120]\n",
    "trainning_size = [0.5, 0.6, 0.8]\n",
    "estimator_name = ['GDE', 'MLE', 'MCE']\n",
    "\n",
    "fold_num = 5\n",
    "partition_num = 1000\n",
    "est_method = 'BFGS'\n",
    "\n",
    "errors = [[[[] for e in estimator_name] for t in trainning_size ] for i in INTERVALS]\n",
    "\n",
    "def rmse(data, dist, para):\n",
    "    y_true, bins = np.histogram(data, bins=20, density=True)\n",
    "    bins[0] = 0.0\n",
    "    bins[-1] = 1.0\n",
    "    est_a = np.array([(dist.cdf(bins[i + 1], para[0], para[1]) - dist.cdf(bins[i], para[0], para[1])) for i in range(len(bins) - 1)])\n",
    "    step = np.array([(bins[i + 1] - bins[i]) for i in range(len(bins) - 1)])\n",
    "    if np.sum(est_a) < 1e-5:\n",
    "        return 2.0\n",
    "    tru_a = y_true * step\n",
    "    return np.sqrt(np.mean((est_a - tru_a)**2))\n",
    "\n",
    "for i in range(len(INTERVALS)):\n",
    "    print 'Time Interval: ' + str(INTERVALS[i])\n",
    "    periods = np.array(pickle.load(open(folder + 'time_period_' + str(INTERVALS[i]) + '/periods.p')))\n",
    "    for p in range(len(periods)):\n",
    "        for t in range(len(trainning_size)):\n",
    "            data_full = periods[p]\n",
    "            data = np.array([tmp for tmp in data_full if tmp <= trainning_size[t]])\n",
    "            \n",
    "            gde = gd_estimator(data = data)\n",
    "            gd_res = gde.estimate(fold_num=fold_num, partition_num=partition_num)\n",
    "            err0 = rmse(data_full, beta, gd_res)\n",
    "            \n",
    "            mle = ML_estimator(data = data)\n",
    "            ml_res = mle.estimate(fold_num = fold_num, partition_num = partition_num)\n",
    "            err1 = rmse(data_full, beta, ml_res)\n",
    "            \n",
    "            mce = mymcmc_estimator2(data = data)\n",
    "            mc_res = mce.estimate(fold_num * 5)\n",
    "            err2 = rmse(data_full, beta, mc_res)\n",
    "            \n",
    "            errors[i][t] = [err0, err1, err2]\n",
    "        print errors[i]"
   ]
  },
  {
   "cell_type": "code",
   "execution_count": 38,
   "metadata": {
    "collapsed": false
   },
   "outputs": [
    {
     "name": "stdout",
     "output_type": "stream",
     "text": [
      "[0, 0, 0, 0, 0, 0, 0, 0, 0, 0, 0, 0, 0, 0, 0, 0, 0, 0, 0, 0, 0, 0, 0, 0, 0, 0, 0, 0, 0, 0, 0, 0, 0, 0, 0, 0, 0, 0, 0, 0, 0, 0, 0, 0, 0]\n",
      "[0.0131435483547]\n",
      "[1, 1, 1, 1, 1, 1, 1, 1, 1, 1, 1, 1, 1, 1, 1, 1, 1, 1, 1, 1, 1, 1, 1, 1, 1, 1, 1, 1, 1, 1, 1, 1, 1, 1, 1, 1, 1, 1, 1, 1, 1, 1, 1, 1, 1]\n",
      "[1, 1, 1, 1, 1, 1, 1, 1, 1, 1, 1, 1, 1, 1, 1, 1, 1, 1, 1, 1, 1, 1, 1, 1, 1, 1, 1, 1, 1, 1, 1, 1, 1, 1, 1, 1, 1, 1, 1, 1, 1, 1, 1, 1, 1]\n",
      "1 1\n"
     ]
    }
   ],
   "source": [
    "output_folder = '/Volumes/anjie/tr.anjie/CIKM2017/output'\n",
    "\n",
    "INTERVALS = [30,60,120]\n",
    "trainning_size = ['0.3', '0.5', '0.8']\n",
    "estimator_name = ['BSE' ,'RNE' ,'GDE', 'MLE', 'MCE']\n",
    "errors = {m:{i:{s:[] for s in trainning_size} for i in INTERVALS} for m in estimator_name}\n",
    "for f in os.listdir(output_folder):\n",
    "    if 'txt' not in f: continue\n",
    "    method, interval, size, index = f.split('.txt')[0].split('_')\n",
    "    index = int(index)\n",
    "    interval = int(interval)\n",
    "    res = float(open(output_folder + '/' + f).readline())\n",
    "    if np.isnan(res): continue\n",
    "    errors[method][interval][size].append(res)\n",
    "    \n",
    "mini_sample = min([len(errors[method][interval][size]) for m in estimator_name for i in INTERVALS for s in trainning_size])\n",
    "maxi_sample = max([len(errors[method][interval][size]) for m in estimator_name for i in INTERVALS for s in trainning_size])\n",
    "\n",
    "print [len(errors[method][interval][size]) for m in estimator_name for i in INTERVALS for s in trainning_size]\n",
    "\n",
    "print mini_sample, maxi_sample\n",
    "   "
   ]
  },
  {
   "cell_type": "code",
   "execution_count": 34,
   "metadata": {
    "collapsed": false
   },
   "outputs": [
    {
     "name": "stdout",
     "output_type": "stream",
     "text": [
      "200 200\n",
      "**************\n",
      "Size: 0.3, Method: BSE, Interval: 30, Error: 0.0317769020823\n",
      "Size: 0.3, Method: BSE, Interval: 60, Error: 0.031022612373\n",
      "Size: 0.3, Method: BSE, Interval: 120, Error: 0.0372219192211\n",
      "Size: 0.3, Method: RNE, Interval: 30, Error: 0.0358334271017\n",
      "Size: 0.3, Method: RNE, Interval: 60, Error: 0.0363394197627\n",
      "Size: 0.3, Method: RNE, Interval: 120, Error: 0.0426835005545\n",
      "Size: 0.3, Method: GDE, Interval: 30, Error: 0.13177092455\n",
      "Size: 0.3, Method: GDE, Interval: 60, Error: 0.124414206279\n",
      "Size: 0.3, Method: GDE, Interval: 120, Error: 0.129062486493\n",
      "Size: 0.3, Method: MLE, Interval: 30, Error: 0.132648553859\n",
      "Size: 0.3, Method: MLE, Interval: 60, Error: 0.126846030068\n",
      "Size: 0.3, Method: MLE, Interval: 120, Error: 0.131227713618\n",
      "Size: 0.3, Method: MCE, Interval: 30, Error: 0.0491386883971\n",
      "Size: 0.3, Method: MCE, Interval: 60, Error: 0.0574247283604\n",
      "Size: 0.3, Method: MCE, Interval: 120, Error: 0.0669972398858\n",
      "**************\n",
      "Size: 0.5, Method: BSE, Interval: 30, Error: 0.0285132798046\n",
      "Size: 0.5, Method: BSE, Interval: 60, Error: 0.029132098768\n",
      "Size: 0.5, Method: BSE, Interval: 120, Error: 0.0335925053831\n",
      "Size: 0.5, Method: RNE, Interval: 30, Error: 0.0287230542313\n",
      "Size: 0.5, Method: RNE, Interval: 60, Error: 0.0305328555966\n",
      "Size: 0.5, Method: RNE, Interval: 120, Error: 0.0362562056307\n",
      "Size: 0.5, Method: GDE, Interval: 30, Error: 0.087929969975\n",
      "Size: 0.5, Method: GDE, Interval: 60, Error: 0.0870630513654\n",
      "Size: 0.5, Method: GDE, Interval: 120, Error: 0.0932528149758\n",
      "Size: 0.5, Method: MLE, Interval: 30, Error: 0.0892624837226\n",
      "Size: 0.5, Method: MLE, Interval: 60, Error: 0.0877690190753\n",
      "Size: 0.5, Method: MLE, Interval: 120, Error: 0.0970729953694\n",
      "Size: 0.5, Method: MCE, Interval: 30, Error: 0.0493024449471\n",
      "Size: 0.5, Method: MCE, Interval: 60, Error: 0.0541653128879\n",
      "Size: 0.5, Method: MCE, Interval: 120, Error: 0.0618326640079\n",
      "**************\n",
      "Size: 0.8, Method: BSE, Interval: 30, Error: 0.0270986703712\n",
      "Size: 0.8, Method: BSE, Interval: 60, Error: 0.0322896997735\n",
      "Size: 0.8, Method: BSE, Interval: 120, Error: 0.0370402783239\n",
      "Size: 0.8, Method: RNE, Interval: 30, Error: 0.0471945963853\n",
      "Size: 0.8, Method: RNE, Interval: 60, Error: 0.0543876068663\n",
      "Size: 0.8, Method: RNE, Interval: 120, Error: 0.06227780256\n",
      "Size: 0.8, Method: GDE, Interval: 30, Error: 0.0522490747571\n",
      "Size: 0.8, Method: GDE, Interval: 60, Error: 0.0546185318118\n",
      "Size: 0.8, Method: GDE, Interval: 120, Error: 0.0580969274541\n",
      "Size: 0.8, Method: MLE, Interval: 30, Error: 0.0529482848489\n",
      "Size: 0.8, Method: MLE, Interval: 60, Error: 0.054143637585\n",
      "Size: 0.8, Method: MLE, Interval: 120, Error: 0.0578309103016\n",
      "Size: 0.8, Method: MCE, Interval: 30, Error: 0.0399589300473\n",
      "Size: 0.8, Method: MCE, Interval: 60, Error: 0.0439479532597\n",
      "Size: 0.8, Method: MCE, Interval: 120, Error: 0.0498389649932\n"
     ]
    }
   ],
   "source": [
    "mini_sample = min([len(errors[method][interval][size]) for m in estimator_name for i in INTERVALS for s in trainning_size])\n",
    "maxi_sample = max([len(errors[method][interval][size]) for m in estimator_name for i in INTERVALS for s in trainning_size])\n",
    "\n",
    "print mini_sample, maxi_sample\n",
    "\n",
    "for size in trainning_size:\n",
    "    print '**************'\n",
    "    for m in estimator_name:\n",
    "        for interval in INTERVALS:\n",
    "            data = np.array(errors[m][interval][size])\n",
    "            print 'Size: ' + size + ', Method: ' + m + ', Interval: ' + str(interval) + ', Error: ' + str(np.mean(data))"
   ]
  }
 ],
 "metadata": {
  "kernelspec": {
   "display_name": "Python [conda root]",
   "language": "python",
   "name": "conda-root-py"
  },
  "language_info": {
   "codemirror_mode": {
    "name": "ipython",
    "version": 2
   },
   "file_extension": ".py",
   "mimetype": "text/x-python",
   "name": "python",
   "nbconvert_exporter": "python",
   "pygments_lexer": "ipython2",
   "version": "2.7.13"
  }
 },
 "nbformat": 4,
 "nbformat_minor": 0
}
