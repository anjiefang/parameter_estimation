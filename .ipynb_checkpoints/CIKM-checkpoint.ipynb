{
 "cells": [
  {
   "cell_type": "code",
   "execution_count": 1,
   "metadata": {
    "collapsed": true
   },
   "outputs": [],
   "source": [
    "import os\n",
    "import pickle\n",
    "import numpy as np\n",
    "import json\n",
    "from myEstimator import gd_estimator, mymcmc_estimator2, ML_estimator\n",
    "from scipy.stats import beta\n",
    "\n",
    "folder = '/Users/anjiefang/Desktop/CIKM2017_select_best/'\n",
    "INTERVALS = [30,60,120]\n",
    "trainning_size = [0.5, 0.6, 0.8]\n",
    "estimator_name = ['GDE', 'MLE', 'MCE']\n",
    "\n",
    "fold_num = 5\n",
    "partition_num = 1000\n",
    "est_method = 'BFGS'\n",
    "\n",
    "errors = [[[[] for e in estimator_name] for t in trainning_size ] for i in INTERVALS]\n",
    "\n",
    "def rmse(data, dist, para):\n",
    "    y_true, bins = np.histogram(data, bins=20, density=True)\n",
    "    bins[0] = 0.0\n",
    "    bins[-1] = 1.0\n",
    "    est_a = np.array([(dist.cdf(bins[i + 1], para[0], para[1]) - dist.cdf(bins[i], para[0], para[1])) for i in range(len(bins) - 1)])\n",
    "    step = np.array([(bins[i + 1] - bins[i]) for i in range(len(bins) - 1)])\n",
    "    if np.sum(est_a) < 1e-5:\n",
    "        return 2.0\n",
    "    tru_a = y_true * step\n",
    "    return np.sqrt(np.mean((est_a - tru_a)**2))\n",
    "\n",
    "for interval in INTERVALS:\n",
    "    periods = np.array(pickle.load(open(folder + 'time_period_' + str(interval) + '/periods.p')))\n",
    "    for ps in periods:\n",
    "        for tsize in trainning_size:\n",
    "            data = np.array([p for p in ps if p < tsize])\n",
    "            \n",
    "            gde = gd_estimator(data = data)\n",
    "            gd_res = GD_est.estimate(fold_num=fold_num, partition_num=partition_num)\n",
    "            \n",
    "            mle = ML_estimator(data = data)\n",
    "            ml_res = ML_estimator(fold_num = fold_num, partition_num = partition_num)\n",
    "            \n",
    "            mce = mymcmc_estimator2(data = data)\n",
    "            mc_res = mce.estimate(fold_num * 5)\n",
    "            \n",
    "            \n",
    "            \n",
    "            \n",
    "        "
   ]
  }
 ],
 "metadata": {
  "kernelspec": {
   "display_name": "Python [conda root]",
   "language": "python",
   "name": "conda-root-py"
  },
  "language_info": {
   "codemirror_mode": {
    "name": "ipython",
    "version": 2
   },
   "file_extension": ".py",
   "mimetype": "text/x-python",
   "name": "python",
   "nbconvert_exporter": "python",
   "pygments_lexer": "ipython2",
   "version": "2.7.13"
  }
 },
 "nbformat": 4,
 "nbformat_minor": 2
}
