{
 "cells": [
  {
   "cell_type": "code",
   "execution_count": null,
   "metadata": {
    "collapsed": false
   },
   "outputs": [],
   "source": [
    "import os\n",
    "import pickle\n",
    "import numpy as np\n",
    "import json\n",
    "from myEstimator import gd_estimator, mymcmc_estimator2, ML_estimator\n",
    "from scipy.stats import beta\n",
    "\n",
    "folder = '/Users/anjiefang/Desktop/CIKM2017_select_best/'\n",
    "INTERVALS = [30,60,120]\n",
    "trainning_size = [0.5, 0.6, 0.8]\n",
    "estimator_name = ['GDE', 'MLE', 'MCE']\n",
    "\n",
    "fold_num = 5\n",
    "partition_num = 1000\n",
    "est_method = 'BFGS'\n",
    "\n",
    "errors = [[[[] for e in estimator_name] for t in trainning_size ] for i in INTERVALS]\n",
    "\n",
    "def rmse(data, dist, para):\n",
    "    y_true, bins = np.histogram(data, bins=20, density=True)\n",
    "    bins[0] = 0.0\n",
    "    bins[-1] = 1.0\n",
    "    est_a = np.array([(dist.cdf(bins[i + 1], para[0], para[1]) - dist.cdf(bins[i], para[0], para[1])) for i in range(len(bins) - 1)])\n",
    "    step = np.array([(bins[i + 1] - bins[i]) for i in range(len(bins) - 1)])\n",
    "    if np.sum(est_a) < 1e-5:\n",
    "        return 2.0\n",
    "    tru_a = y_true * step\n",
    "    return np.sqrt(np.mean((est_a - tru_a)**2))\n",
    "\n",
    "for i in range(len(INTERVALS)):\n",
    "    print 'Time Interval: ' + str(INTERVALS[i])\n",
    "    periods = np.array(pickle.load(open(folder + 'time_period_' + str(INTERVALS[i]) + '/periods.p')))\n",
    "    for p in range(len(periods)):\n",
    "        for t in range(len(trainning_size)):\n",
    "            data_full = periods[p]\n",
    "            data = np.array([tmp for tmp in data_full if tmp <= trainning_size[t]])\n",
    "            \n",
    "            gde = gd_estimator(data = data)\n",
    "            gd_res = gde.estimate(fold_num=fold_num, partition_num=partition_num)\n",
    "            err0 = rmse(data_full, beta, gd_res)\n",
    "            \n",
    "            mle = ML_estimator(data = data)\n",
    "            ml_res = mle.estimate(fold_num = fold_num, partition_num = partition_num)\n",
    "            err1 = rmse(data_full, beta, ml_res)\n",
    "            \n",
    "            mce = mymcmc_estimator2(data = data)\n",
    "            mc_res = mce.estimate(fold_num * 5)\n",
    "            err2 = rmse(data_full, beta, mc_res)\n",
    "            \n",
    "            errors[i][t] = [err0, err1, err2]\n",
    "        print errors[i]"
   ]
  }
 ],
 "metadata": {
  "kernelspec": {
   "display_name": "Python [conda root]",
   "language": "python",
   "name": "conda-root-py"
  }
 },
 "nbformat": 4,
 "nbformat_minor": 0
}