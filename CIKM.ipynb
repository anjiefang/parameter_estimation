{
 "cells": [
  {
   "cell_type": "code",
   "execution_count": null,
   "metadata": {
    "collapsed": false
   },
   "outputs": [],
   "source": [
    "import os\n",
    "import pickle\n",
    "import numpy as np\n",
    "import json\n",
    "from myEstimator import gd_estimator, mymcmc_estimator2, ML_estimator\n",
    "from scipy.stats import beta\n",
    "\n",
    "folder = '/Users/anjiefang/Desktop/CIKM2017_select_best/'\n",
    "INTERVALS = [30,60,120]\n",
    "trainning_size = [0.5, 0.6, 0.8]\n",
    "estimator_name = ['GDE', 'MLE', 'MCE']\n",
    "\n",
    "fold_num = 5\n",
    "partition_num = 1000\n",
    "est_method = 'BFGS'\n",
    "\n",
    "errors = [[[[] for e in estimator_name] for t in trainning_size ] for i in INTERVALS]\n",
    "\n",
    "def rmse(data, dist, para):\n",
    "    y_true, bins = np.histogram(data, bins=20, density=True)\n",
    "    bins[0] = 0.0\n",
    "    bins[-1] = 1.0\n",
    "    est_a = np.array([(dist.cdf(bins[i + 1], para[0], para[1]) - dist.cdf(bins[i], para[0], para[1])) for i in range(len(bins) - 1)])\n",
    "    step = np.array([(bins[i + 1] - bins[i]) for i in range(len(bins) - 1)])\n",
    "    if np.sum(est_a) < 1e-5:\n",
    "        return 2.0\n",
    "    tru_a = y_true * step\n",
    "    return np.sqrt(np.mean((est_a - tru_a)**2))\n",
    "\n",
    "for i in range(len(INTERVALS)):\n",
    "    print 'Time Interval: ' + str(INTERVALS[i])\n",
    "    periods = np.array(pickle.load(open(folder + 'time_period_' + str(INTERVALS[i]) + '/periods.p')))\n",
    "    for p in range(len(periods)):\n",
    "        for t in range(len(trainning_size)):\n",
    "            data_full = periods[p]\n",
    "            data = np.array([tmp for tmp in data_full if tmp <= trainning_size[t]])\n",
    "            \n",
    "            gde = gd_estimator(data = data)\n",
    "            gd_res = gde.estimate(fold_num=fold_num, partition_num=partition_num)\n",
    "            err0 = rmse(data_full, beta, gd_res)\n",
    "            \n",
    "            mle = ML_estimator(data = data)\n",
    "            ml_res = mle.estimate(fold_num = fold_num, partition_num = partition_num)\n",
    "            err1 = rmse(data_full, beta, ml_res)\n",
    "            \n",
    "            mce = mymcmc_estimator2(data = data)\n",
    "            mc_res = mce.estimate(fold_num * 5)\n",
    "            err2 = rmse(data_full, beta, mc_res)\n",
    "            \n",
    "            errors[i][t] = [err0, err1, err2]\n",
    "        print errors[i]"
   ]
  },
  {
   "cell_type": "code",
   "execution_count": 13,
   "metadata": {
    "collapsed": false
   },
   "outputs": [
    {
     "name": "stdout",
     "output_type": "stream",
     "text": [
      "194 200\n"
     ]
    }
   ],
   "source": [
    "import os\n",
    "import pickle\n",
    "import numpy as np\n",
    "import json\n",
    "from myEstimator import gd_estimator, mymcmc_estimator2, ML_estimator\n",
    "from scipy.stats import beta\n",
    "\n",
    "res_col = 0\n",
    "output_folder = '/Volumes/anjie/tr.anjie/CIKM2017/output'\n",
    "\n",
    "INTERVALS = [30,60,120]\n",
    "trainning_size = ['0.3', '0.5', '0.8']\n",
    "estimator_name = ['BSE' ,'RNE' ,'GDE', 'MLE', 'MCE']\n",
    "errors = {m:{i:{s:[] for s in trainning_size} for i in INTERVALS} for m in estimator_name}\n",
    "for f in os.listdir(output_folder):\n",
    "    if 'txt' not in f: continue\n",
    "    method, interval, size, index = f.split('.txt')[0].split('_')\n",
    "    index = int(index)\n",
    "    interval = int(interval)\n",
    "    res = float(open(output_folder + '/' + f).readline().split(',')[res_col])\n",
    "    if np.isnan(res): continue\n",
    "    errors[method][interval][size].append(res)\n",
    "    \n",
    "mini_sample = min([len(errors[m][i][s]) for m in estimator_name for i in INTERVALS for s in trainning_size])\n",
    "maxi_sample = max([len(errors[m][i][s]) for m in estimator_name for i in INTERVALS for s in trainning_size])\n",
    "print mini_sample, maxi_sample\n",
    "   "
   ]
  },
  {
   "cell_type": "code",
   "execution_count": 14,
   "metadata": {
    "collapsed": false
   },
   "outputs": [
    {
     "name": "stdout",
     "output_type": "stream",
     "text": [
      "**************\n",
      "Size: 0.3, Method: BSE, Interval: 30, Error: 0.336307565833\n",
      "Size: 0.3, Method: BSE, Interval: 60, Error: 0.312735584127\n",
      "Size: 0.3, Method: BSE, Interval: 120, Error: 0.332067977202\n",
      "Size: 0.3, Method: RNE, Interval: 30, Error: 0.336557033998\n",
      "Size: 0.3, Method: RNE, Interval: 60, Error: 0.31279913991\n",
      "Size: 0.3, Method: RNE, Interval: 120, Error: 0.32796082776\n",
      "Size: 0.3, Method: GDE, Interval: 30, Error: 1.01791843763\n",
      "Size: 0.3, Method: GDE, Interval: 60, Error: 0.973264271059\n",
      "Size: 0.3, Method: GDE, Interval: 120, Error: 0.955396220903\n",
      "Size: 0.3, Method: MLE, Interval: 30, Error: 1.04083744785\n",
      "Size: 0.3, Method: MLE, Interval: 60, Error: 0.994069744178\n",
      "Size: 0.3, Method: MLE, Interval: 120, Error: 0.978299056298\n",
      "Size: 0.3, Method: MCE, Interval: 30, Error: 0.495084162236\n",
      "Size: 0.3, Method: MCE, Interval: 60, Error: 0.507342471681\n",
      "Size: 0.3, Method: MCE, Interval: 120, Error: 0.531053627138\n",
      "**************\n",
      "Size: 0.5, Method: BSE, Interval: 30, Error: 0.23749308528\n",
      "Size: 0.5, Method: BSE, Interval: 60, Error: 0.230816846829\n",
      "Size: 0.5, Method: BSE, Interval: 120, Error: 0.24116556456\n",
      "Size: 0.5, Method: RNE, Interval: 30, Error: 0.234082240547\n",
      "Size: 0.5, Method: RNE, Interval: 60, Error: 0.232436984245\n",
      "Size: 0.5, Method: RNE, Interval: 120, Error: 0.238610395653\n",
      "Size: 0.5, Method: GDE, Interval: 30, Error: 0.603849496908\n",
      "Size: 0.5, Method: GDE, Interval: 60, Error: 0.597953329369\n",
      "Size: 0.5, Method: GDE, Interval: 120, Error: 0.603124491574\n",
      "Size: 0.5, Method: MLE, Interval: 30, Error: 0.614716805616\n",
      "Size: 0.5, Method: MLE, Interval: 60, Error: 0.608473817129\n",
      "Size: 0.5, Method: MLE, Interval: 120, Error: 0.627927931616\n",
      "Size: 0.5, Method: MCE, Interval: 30, Error: 0.398431797733\n",
      "Size: 0.5, Method: MCE, Interval: 60, Error: 0.388633018057\n",
      "Size: 0.5, Method: MCE, Interval: 120, Error: 0.418206849526\n",
      "**************\n",
      "Size: 0.8, Method: BSE, Interval: 30, Error: 0.114195987902\n",
      "Size: 0.8, Method: BSE, Interval: 60, Error: 0.132171226078\n",
      "Size: 0.8, Method: BSE, Interval: 120, Error: 0.110841195186\n",
      "Size: 0.8, Method: RNE, Interval: 30, Error: 0.245060075851\n",
      "Size: 0.8, Method: RNE, Interval: 60, Error: 0.272668118908\n",
      "Size: 0.8, Method: RNE, Interval: 120, Error: 0.264858816033\n",
      "Size: 0.8, Method: GDE, Interval: 30, Error: 0.247391177909\n",
      "Size: 0.8, Method: GDE, Interval: 60, Error: 0.252984329913\n",
      "Size: 0.8, Method: GDE, Interval: 120, Error: 0.216902870701\n",
      "Size: 0.8, Method: MLE, Interval: 30, Error: 0.251192563311\n",
      "Size: 0.8, Method: MLE, Interval: 60, Error: 0.255378044837\n",
      "Size: 0.8, Method: MLE, Interval: 120, Error: 0.217782568063\n",
      "Size: 0.8, Method: MCE, Interval: 30, Error: 0.202966514485\n",
      "Size: 0.8, Method: MCE, Interval: 60, Error: 0.17036503968\n",
      "Size: 0.8, Method: MCE, Interval: 120, Error: 0.18416841387\n"
     ]
    }
   ],
   "source": [
    "for size in trainning_size:\n",
    "    print '**************'\n",
    "    for m in estimator_name:\n",
    "        for interval in INTERVALS:\n",
    "            data = np.array(errors[m][interval][size])\n",
    "            print 'Size: ' + size + ', Method: ' + m + ', Interval: ' + str(interval) + ', Error: ' + str(np.mean(data))"
   ]
  }
 ],
 "metadata": {
  "kernelspec": {
   "display_name": "Python [conda root]",
   "language": "python",
   "name": "conda-root-py"
  },
  "language_info": {
   "codemirror_mode": {
    "name": "ipython",
    "version": 2
   },
   "file_extension": ".py",
   "mimetype": "text/x-python",
   "name": "python",
   "nbconvert_exporter": "python",
   "pygments_lexer": "ipython2",
   "version": "2.7.13"
  }
 },
 "nbformat": 4,
 "nbformat_minor": 0
}
